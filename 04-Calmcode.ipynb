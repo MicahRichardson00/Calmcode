{
 "cells": [
  {
   "cell_type": "markdown",
   "metadata": {},
   "source": [
    "# Lunr.js"
   ]
  },
  {
   "cell_type": "markdown",
   "metadata": {},
   "source": [
    "# Lunar is a great search engine for rapid protyping and finding information within a doucment. Very quick and seemless!"
   ]
  },
  {
   "cell_type": "code",
   "execution_count": null,
   "metadata": {},
   "outputs": [],
   "source": [
    "# need list of dictionaries\n",
    "documents = df.to_dict(orient=\"records\")\n",
    "\n",
    "#build a index\n",
    "from lunr import lunr \n",
    "\n",
    "# need a reference to a unique row identifier, fields to search index\n",
    "index = lunr(ref=\"idx\",fields=('text',), documents=docuemnts)"
   ]
  },
  {
   "cell_type": "code",
   "execution_count": null,
   "metadata": {},
   "outputs": [],
   "source": [
    "#gives back a list \n",
    "index.search(\"spanish\")\n",
    "\n",
    "#mini search engine\n",
    "[documents[int(i['ref'])] for i in index.search('spanish')]"
   ]
  },
  {
   "cell_type": "code",
   "execution_count": null,
   "metadata": {},
   "outputs": [],
   "source": [
    "#python dictionary to reconstruct above index\n",
    "index.serialize()"
   ]
  },
  {
   "cell_type": "code",
   "execution_count": null,
   "metadata": {},
   "outputs": [],
   "source": [
    "import json\n",
    "from lunr.index import Index\n",
    "\n",
    "serialized = idx.serialize()\n",
    "\n",
    "# Save the index\n",
    "with open('idx.json', 'w') as fd:\n",
    "    json.dump(serialized, fd)\n",
    "\n",
    "# Load it again\n",
    "with open(\"idx.json\") as fd:\n",
    "    reloaded = json.loads(fd.read())\n",
    "\n",
    "idx = Index.load(reloaded)\n",
    "idx.search(\"plant\")"
   ]
  },
  {
   "cell_type": "code",
   "execution_count": null,
   "metadata": {},
   "outputs": [],
   "source": [
    "%timeit df.loc[lambda d: d['text'].str.contains(\"spanish\")]\n",
    "# 4.79 ms ± 37 µs per loop (mean ± std. dev. of 7 runs, 100 loops each)\n",
    "\n",
    "%timeit [d for d in documents if 'spanish' in d['text']]\n",
    "# 1.86 ms ± 32.9 µs per loop (mean ± std. dev. of 7 runs, 100 loops each)\n",
    "\n",
    "%timeit index.search('spanish')\n",
    "# 304 µs ± 1.85 µs per loop (mean ± std. dev. of 7 runs, 1,000 loops each)\n",
    "\n",
    "%timeit [documents[int(i['ref'])] for i in index.search('spanish')]\n",
    "# 309 µs ± 1.2 µs per loop (mean ± std. dev. of 7 runs, 1,000 loops each)"
   ]
  },
  {
   "cell_type": "markdown",
   "metadata": {},
   "source": [
    "# Pigeon \n",
    "for labeling datasets/sentences. Ideal for sentiments. Uses ipythonwidgets to allow user interface for labeling"
   ]
  },
  {
   "cell_type": "code",
   "execution_count": null,
   "metadata": {},
   "outputs": [],
   "source": [
    "! pip install pigeon-jupyter"
   ]
  },
  {
   "cell_type": "code",
   "execution_count": null,
   "metadata": {},
   "outputs": [],
   "source": [
    "from pigeon import annotate"
   ]
  },
  {
   "cell_type": "code",
   "execution_count": null,
   "metadata": {},
   "outputs": [],
   "source": [
    "from pigeon import annotate\n",
    "\n",
    "sentiment_examples = ['I like this', 'I do not like this', 'This is great']\n",
    "# The annotations can be retreived from the assigned variable.\n",
    "annotations = annotate(sentiment_examples, options=[\"positive\", \"negative\"])\n",
    "\n",
    "annotations = annotate(sentiment_examples, options=[\"positive\",\"negative\"])\n",
    "annotations "
   ]
  },
  {
   "cell_type": "markdown",
   "metadata": {},
   "source": [
    "# You can label text or even images!"
   ]
  },
  {
   "cell_type": "code",
   "execution_count": null,
   "metadata": {},
   "outputs": [],
   "source": [
    "\n",
    "Image(pigeon-images/1.png)\n",
    "\n",
    "from IPython.display import display, Image\n",
    "from pigeon import annotate\n",
    "\n",
    "images = ['pigeon-images/1.png', 'pigeon-images/2.png', 'pigeon-images/3.png']\n",
    "\n",
    "annotations = annotate(\n",
    "  examples=images,\n",
    "  options=['cute', 'very cute', 'super very cute'],\n",
    "  display_fn=lambda filename: display(Image(filename)) #handles rendering\n",
    ")\n",
    "\n"
   ]
  },
  {
   "cell_type": "markdown",
   "metadata": {},
   "source": [
    "display can render anything a notebook can normally can. "
   ]
  },
  {
   "cell_type": "code",
   "execution_count": null,
   "metadata": {},
   "outputs": [],
   "source": [
    "! python -m pip install scikit-lego\n",
    "\n",
    "# labeling tabular data\n",
    "from IPython.display import display\n",
    "from sklego.datasets import load_penguins\n",
    "from pigeon import annotate\n",
    "\n",
    "df = load_penguins(as_frame=True).drop(columns=[\"species\"])\n",
    "\n",
    "# Again note the clever use of the `display_fn`.\n",
    "annotations = annotate(\n",
    "  [1, 2, 3, 4, 5, 6],\n",
    "  options=['A', 'B', 'C'],\n",
    "  display_fn=lambda x: display(df.iloc[x-1:x]) #need :x to create a dataframe with one row.\n",
    ")"
   ]
  },
  {
   "cell_type": "markdown",
   "metadata": {},
   "source": [
    "Once you start to label it will populate the annotations list"
   ]
  },
  {
   "cell_type": "code",
   "execution_count": null,
   "metadata": {},
   "outputs": [],
   "source": [
    "#for help with pigeons \n",
    "?pigeons"
   ]
  },
  {
   "cell_type": "markdown",
   "metadata": {},
   "source": [
    "# Ultimately, pigeons is an easy way to bring a user interface along with labeling. Almost like a mini prodigy tool you can use in a notebook."
   ]
  }
 ],
 "metadata": {
  "language_info": {
   "name": "python"
  }
 },
 "nbformat": 4,
 "nbformat_minor": 2
}
